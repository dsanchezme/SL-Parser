{
 "cells": [
  {
   "cell_type": "markdown",
   "metadata": {},
   "source": [
    "# SL Grammar"
   ]
  },
  {
   "cell_type": "markdown",
   "metadata": {},
   "source": [
    "**codigo** -> **nombre** **declaracion** **main** **subrutina**"
   ]
  },
  {
   "cell_type": "code",
   "execution_count": null,
   "metadata": {},
   "outputs": [],
   "source": [
    "{\n",
    "    \"codigo\": [[\"nombre\", \"declaracion\", \"main\", \"subrutina\"]]\n",
    "}"
   ]
  },
  {
   "cell_type": "markdown",
   "metadata": {},
   "source": [
    "## Nombre"
   ]
  },
  {
   "cell_type": "markdown",
   "metadata": {},
   "source": [
    "**nombre** -> programa id\n",
    "\n",
    "**nombre** -> EPSILON"
   ]
  },
  {
   "cell_type": "code",
   "execution_count": null,
   "metadata": {},
   "outputs": [],
   "source": [
    "{\n",
    "    \"nombre\": [[\"programa\", \"id\"], [\"EPSILON\"]]\n",
    "}"
   ]
  },
  {
   "cell_type": "markdown",
   "metadata": {},
   "source": [
    "## Declaracion"
   ]
  },
  {
   "cell_type": "markdown",
   "metadata": {},
   "source": [
    "**declaracion** -> **declaracion_tipo** **declaracion_contenido** **declaracion**    \n",
    "**declaracion** -> EPSILON  \n",
    "\n",
    "**declaracion_tipo** -> const  \n",
    "**declaracion_tipo** -> tipos  \n",
    "**declaracion_tipo** -> var  \n",
    "\n",
    "<!-- Cuando el tipo de declaracion sea const -->\n",
    "**declaracion_contenido** -> id **declaracion_contenido_**  \n",
    "**declaracion_contenido_** -> tk_asignacion **expresion**  **mas_declaraciones**  \n",
    "\n",
    "**valor** -> id **pos_arreglo**\n",
    "**valor** -> tk_numero  \n",
    "**valor** -> tk_suma tk_numero  \n",
    "**valor** -> tk_resta tk_numero  \n",
    "**valor** -> tk_cadena  \n",
    "**valor** -> TRUE  \n",
    "**valor** -> FALSE  \n",
    "**valor** -> SI  \n",
    "**valor** -> NO\n",
    "\n",
    "**pos_arreglo** -> tk_corchete_izquierdo **valor** **mas_pos_arreglo** tk_corchete_derecho\n",
    "**pos_arreglo** -> EPSILON\n",
    "\n",
    "**mas_pos_arreglo** -> tk_coma **valor** **mas_pos_arreglo**\n",
    "**mas_pos_arreglo** -> EPSILON\n",
    "\n",
    "<!-- Cuando el tipo de declaracion sea var o tipos -->\n",
    "**declaracion_contenido_** -> **otros_id** tk_dos_puntos **tipo_dato** **mas_declaraciones**  \n",
    "\n",
    "**otros_id** ->  tk_coma id **otros_id**  \n",
    "**otros_id** -> EPSILON  \n",
    "\n",
    "**tipo_dato** -> id  \n",
    "**tipo_dato** -> cadena  \n",
    "**tipo_dato** -> logico   \n",
    "**tipo_dato** -> numerico  \n",
    "**tipo_dato** -> registro tk_llave_izquierda **declaracion_contenido** tk_llave_derecha  \n",
    "**tipo_dato** -> vector tk_corchete_izquierdo **tamano_arreglo** tk_corchete_derecho **tipo_dato**  \n",
    "**tipo_dato** -> matriz tk_corchete_izquierdo **tamano_arreglo** **mas_tamano_arreglo** **tk_corchete_derecho** **tipo_dato**  \n",
    "\n",
    "**tamano_arreglo** -> tk_numero  \n",
    "**tamano_arreglo** -> tk_multiplicacion  \n",
    "**tamano_arreglo** -> id  \n",
    "\n",
    "**mas_tamano_arreglo** -> tk_coma **tamano_arreglo** **mas_tamano_arreglo**\n",
    "**mas_tamano_arreglo** -> EPSILON\n",
    "\n",
    "**mas_declaraciones** -> tk_punto_y_coma **declaracion_contenido**  \n",
    "**mas_declaraciones** -> **declaracion_contenido**  \n",
    "**mas_declaraciones** -> EPSILON  "
   ]
  },
  {
   "cell_type": "code",
   "execution_count": null,
   "metadata": {},
   "outputs": [],
   "source": [
    "{\n",
    "    \"declaracion\" : [[\"declaracion_tipo\", \"declaracion_contenido\", \"declaracion\"], [\"EPSILON\"]],\n",
    "    \"declaracion_tipo\" : [[\"const\"], [\"tipos\"], [\"var\"]],\n",
    "    \"declaracion_contenido\" : [[\"id\", \"declaracion_contenido_\"]],\n",
    "    \"declaracion_contenido_\" : [[\"tk_asignacion\", \"expresion\", \"mas_declaraciones\"], [\"otros_id\", \"tk_dos_puntos\", \"tipo_dato\", \"mas_declaraciones\"]],\n",
    "    \"valor\" : [[\"id\"], [\"tk_numero\"], [\"tk_cadena\"], [\"TRUE\"], [\"FALSE\"], [\"SI\"], [\"NO\"]],\n",
    "    \"otros_id\" : [[\"tk_coma\", \"id\", \"otros_id\"], [\"EPSILON\"]],\n",
    "    \"tipo_dato\" : [[\"id\"], [\"cadena\"], [\"logico\"], [\"numerico\"], [\"registro\", \"tk_llave_izquierda\", \"declaracion_contenido\", \"tk_llave_derecha\"], [\"vector\", \"tk_corchete_izquierdo\", \"tamano_arreglo\", \"tk_corchete_derecho\", \"tipo_dato\"], [\"matriz\", \"tk_corchete_izquierdo\", \"tamano_arreglo\", \"mas_tamano_arreglo\", \"tk_corchete_derecho\", \"tipo_dato\"]],\n",
    "    \"tamano_arreglo\" : [[\"tk_numero\"], [\"tk_multiplicacion\"], [\"id\"]],\n",
    "    \"mas_tamano_arreglo\" : [[\"tk_coma\", \"tamano_arreglo\", \"mas_tamano_arreglo\"], [\"EPSILON\"]],\n",
    "    \"mas_declaraciones\" : [[\"tk_punto_y_coma\", \"declaracion_contenido\"], [\"declaracion_contenido\"], [\"EPSILON\"]]\n",
    "}"
   ]
  },
  {
   "cell_type": "markdown",
   "metadata": {},
   "source": [
    "## Main"
   ]
  },
  {
   "cell_type": "markdown",
   "metadata": {},
   "source": [
    "**main** -> inicio **sentencias** fin  \n",
    "\n",
    "**sentencias** -> **asignacion** **sentencias**\n",
    "**sentencias** -> **condicional** **sentencias**\n",
    "**sentencias** -> **ciclo_mientras** **sentencias**\n",
    "**sentencias** -> **sentencia_eval** **sentencias**\n",
    "**sentencias** -> **ciclo_desde** **sentencias**\n",
    "**sentencias** -> **llamada_subrutina** **sentencias**"
   ]
  },
  {
   "cell_type": "code",
   "execution_count": null,
   "metadata": {},
   "outputs": [],
   "source": [
    "{\n",
    "    \"main\" : [[\"inicio\", \"sentencias\", \"fin\"]],\n",
    "    \"sentencias\" : [[\"asignacion\", \"sentencias\"], [\"condicional\", \"sentencias\"], [\"ciclo_mientras\", \"sentencias\"], [\"sentencia_eval\", \"sentencias\"], [\"ciclo_desde\", \"sentencias\"], [\"llamada_subrutina\", \"sentencias\"]]\n",
    "}"
   ]
  },
  {
   "cell_type": "markdown",
   "metadata": {},
   "source": [
    "#### Expresion"
   ]
  },
  {
   "cell_type": "markdown",
   "metadata": {},
   "source": [
    "**expresion** -> **valor** **expresion_**  \n",
    "**expresion** -> not **expresion**  \n",
    "**expresion** ->  tk_parentesis_izquierdo **expresion** tk_parentesis_derecho\n",
    "**expresion** -> **id** tk_parentesis_izquierdo **expresion** tk_parentesis_derecho\n",
    "\n",
    "**expresion_** -> **operador** **expresion**  \n",
    "**expresion_** -> EPSILON  \n",
    "\n",
    "**operador** -> tk_modulo  \n",
    "**operador** -> tk_multiplicacion  \n",
    "**operador** -> tk_potenciacion  \n",
    "**operador** -> tk_resta  \n",
    "**operador** -> tk_suma  \n",
    "**operador** -> tk_division  \n",
    "**operador** -> tk_igual_que  \n",
    "**operador** -> tk_menor  \n",
    "**operador** -> tk_distinto_de  \n",
    "**operador** -> tk_menor_igual  \n",
    "**operador** -> tk_mayor  \n",
    "**operador** -> tk_mayor_igual  \n",
    "**operador** -> and  \n",
    "**operador** -> or  "
   ]
  },
  {
   "cell_type": "code",
   "execution_count": null,
   "metadata": {},
   "outputs": [],
   "source": [
    "{\n",
    "    \"expresion\" : [[\"valor\", \"expresion_\"], [\"not\", \"expresion\"], [\"tk_parentesis_izquierdo\", \"expresion\", \"tk_parentesis_derecho\"], [\"id\", \"tk_parentesis_izquierdo\", \"expresion\", \"tk_parentesis_derecho\"]], \n",
    "    \"expresion_\" : [[\"operador\", \"expresion\"], [\"EPSILON\"]],\n",
    "    \"operador\" : [[\"tk_modulo\"], [\"tk_multiplicacion\"], [\"tk_potenciacion\"], [\"tk_resta\"], [\"tk_suma\"], [\"tk_division\"], [\"tk_igual_que\"], [\"tk_menor\"], [\"tk_distinto_de\"], [\"tk_menor_igual\"], [\"tk_mayor\"], [\"tk_mayor_igual\"], [\"and\"], [\"or\"]]\n",
    "}"
   ]
  },
  {
   "cell_type": "markdown",
   "metadata": {},
   "source": [
    "#### Sentencia"
   ]
  },
  {
   "cell_type": "markdown",
   "metadata": {},
   "source": [
    "<!-- **sentencia** -> **asignacion**   -->\n",
    "**sentencia** -> **condicional**  \n",
    "**sentencia** -> **ciclo_mientras**  \n",
    "**sentencia** -> **sentencia_eval**  \n",
    "**sentencia** -> **ciclo_desde**  \n",
    "<!-- **sentencia** -> **llamada_subrutina** -->\n",
    "**sentencia** -> **sentencia_id**\n",
    "\n",
    "**sentencia_id** -> id **asignacion** **llamada_subrutina**\n",
    "\n",
    "**asignacion** -> tk_asignacion **expresion**  \n",
    "\n",
    "**condicional** -> si tk_parentesis_izquierdo **expresion** tk_parentesis_derecho tk_llave_izquierda **sentencias** **mas_condicionales** tk_llave_derecha  \n",
    "\n",
    "**mas_condicionales** -> sino **condicional_**  \n",
    "**mas_condicionales** -> EPSILON  \n",
    "\n",
    "**condicional_** -> si tk_parentesis_izquierdo **expresion** tk_parentesis_derecho **sentencias** **mas_condicionales**  \n",
    "**condicional_** -> **sentencias**  \n",
    "**condicional_** -> EPSILON  \n",
    "\n",
    "**ciclo_mientras** -> mientras tk_parentesis_izquierdo **expresion** tk_parentesis_derecho tk_llave_izquierda **sentencias** tk_llave_derecha  \n",
    "\n",
    "**sentencia_eval** -> eval tk_llave_izquierda caso tk_parentesis_izquierdo  **expresion** tk_parentesis_derecho  **sentencias** **mas_casos_eval** tk_llave_derecha  \n",
    "\n",
    "**mas_casos_eval** -> caso tk_parentesis_izquierdo  **expresion** tk_parentesis_derecho **sentencias** **mas_casos_eval**  \n",
    "**mas_casos_eval** -> sino **sentencias**\n",
    "**mas_casos_eval** -> EPSILON\n",
    "\n",
    "**ciclo_desde** -> desde id tk_asignacion **valor** hasta **valor** tk_corchete_izquierdo **valor** tk_corchete_derecho tk_llave_izquierda **sentencias** tk_llave_derecha  \n",
    "\n",
    "**llamada_subrutina**  -> id tk_parentesis_izquierdo **parametros** tk_parentesis_derecho  \n",
    "\n",
    "**parametros** -> **valor** **mas_parametros**  \n",
    "**parametros** -> EPSILON  \n",
    "\n",
    "**mas_parametros** -> tk_coma **valor** **mas_parametros**  \n",
    "**mas_parametros** -> EPSILON  \n",
    "\n",
    "**sentencia_retorna** -> retorna tk_parentesis_izquierdo  **expresion** tk_parentesis_derecho  \n",
    "**sentencia_retorna** -> EPSILON  "
   ]
  },
  {
   "cell_type": "code",
   "execution_count": null,
   "metadata": {},
   "outputs": [],
   "source": [
    "{\n",
    "    \"sentencia\" : [[\"asignacion\"], [\"condicional\"], [\"ciclo_mientras\"], [\"sentencia_eval\"], [\"ciclo_desde\"], [\"llamada_subrutina\"]],\n",
    "    \"asignacion\" : [[\"id\", \"tk_asignacion\", \"expresion\"]],\n",
    "    \"condicional\" : [[\"si\", \"tk_parentesis_izquierdo\", \"expresion\", \"tk_parentesis_derecho\", \"tk_llave_izquierda\", \"sentencias\", \"mas_condicionales\", \"tk_llave_derecha\"]],\n",
    "    \"mas_condicionales\" : [[\"sino\", \"condicional_\"], [\"EPSILON\"]],\n",
    "    \"condicional_\" : [[\"si\", \"tk_parentesis_izquierdo\", \"expresion\", \"tk_parentesis_derecho\", \"sentencias\", \"mas_condicionales\"], [\"sentencias\"], [\"EPSILON\"]],\n",
    "    \"ciclo_mientras\" : [[\"mientras\", \"tk_parentesis_izquierdo\", \"expresion\", \"tk_parentesis_derecho\", \"tk_llave_izquierda\", \"sentencias\", \"tk_llave_derecha\"]],\n",
    "    \"sentencia_eval\" : [[\"eval\", \"tk_llave_izquierda\", \"caso\", \"tk_parentesis_izquierdo\", \"expresion\", \"tk_parentesis_derecho\", \"sentencias\", \"mas_casos_eval\", \"tk_llave_derecha\"]],\n",
    "    \"mas_casos_eval\" : [[\"caso\", \"tk_parentesis_izquierdo\", \"expresion\", \"tk_parentesis_derecho\", \"sentencias\", \"mas_casos_eval\"], [\"sino\", \"sentencias\"], [\"EPSILON\"]],\n",
    "    \"ciclo_desde\" : [[\"desde\", \"id\", \"tk_asignacion\", \"valor\", \"hasta\", \"valor\", \"tk_corchete_izquierdo\", \"valor\", \"tk_corchete_derecho\", \"tk_llave_izquierda\", \"sentencias\", \"tk_llave_derecha\"]],\n",
    "    \"llamada_subrutina\" : [[\"id\", \"tk_parentesis_izquierdo\", \"parametros\", \"tk_parentesis_derecho\"]],\n",
    "    \"parametros\" : [[\"valor\", \"mas_parametros\"], [\"EPSILON\"]],\n",
    "    \"mas_parametros\" : [[\"tk_coma\", \"valor\", \"mas_parametros\"], [\"EPSILON\"]],\n",
    "    \"sentencia_retorna\" : [[\"retorna\", \"tk_parentesis_izquierdo\", \"expresion\", \"tk_parentesis_derecho\"], [\"EPSILON\"]]\n",
    "    \n",
    "}"
   ]
  },
  {
   "cell_type": "markdown",
   "metadata": {},
   "source": [
    "#### Subrutina"
   ]
  },
  {
   "cell_type": "markdown",
   "metadata": {},
   "source": [
    "**subrutina_** -> subrutina id tk_parentesis_izquierdo **param_subrutina** tk_parentesis_derecho **sentencia_retorna** **declaracion** **main** **subrutina_**  \n",
    "**subrutina** -> EPSILON\n",
    "\n",
    "**param_subrutina** -> **param_ref** id **otros_id** tk_dos_puntos **tipo_dato** **mas_param_subrutina**  \n",
    "\n",
    "**mas_param_subrutina** -> tk_punto_y_coma **param_subrutina**  \n",
    "**mas_param_subrutina** -> **param_subrutina**  \n",
    "**mas_param_subrutina** -> EPSILON  \n",
    "\n",
    "**param_ref** -> ref  \n",
    "**param_ref** -> EPSILON  "
   ]
  },
  {
   "cell_type": "code",
   "execution_count": null,
   "metadata": {},
   "outputs": [],
   "source": [
    "{\n",
    "    \"subrutina_\" : [[\"subrutina\", \"id\", \"tk_parentesis_izquierdo\", \"param_subrutina\", \"tk_parentesis_derecho\", \"sentencia_retorna\", \"declaracion\", \"main\", \"subrutina_\"], [\"EPSILON\"]],\n",
    "    \"param_subrutina\" : [[\"param_ref\", \"id\", \"otros_id\", \"tk_dos_puntos\", \"tipo_dato\", \"mas_param_subrutina\"]],\n",
    "    \"mas_param_subrutina\" : [[\"tk_punto_y_coma\", \"param_subrutina\"], [\"param_subrutina\"], [\"EPSILON\"]],\n",
    "    \"param_ref\" : [[\"ref\"], [\"EPSILON\"]]\n",
    "}"
   ]
  }
 ],
 "metadata": {
  "interpreter": {
   "hash": "dc8ea374625b73a5eaf703035f7ca18d385daa530c4760c6499ab83e62e8a550"
  },
  "kernelspec": {
   "display_name": "Python 3.9.6 64-bit",
   "language": "python",
   "name": "python3"
  },
  "language_info": {
   "codemirror_mode": {
    "name": "ipython",
    "version": 3
   },
   "file_extension": ".py",
   "mimetype": "text/x-python",
   "name": "python",
   "nbconvert_exporter": "python",
   "pygments_lexer": "ipython3",
   "version": "3.9.6"
  },
  "orig_nbformat": 4
 },
 "nbformat": 4,
 "nbformat_minor": 2
}
